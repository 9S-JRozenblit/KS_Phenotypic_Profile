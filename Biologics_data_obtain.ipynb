{
 "cells": [
  {
   "cell_type": "code",
   "execution_count": null,
   "id": "6d2d388a",
   "metadata": {},
   "outputs": [],
   "source": [
    "import glob #what strings and reads file paths\n",
    "import os   # operating system\n",
    "import re   # regex\n",
    "import pandas as pd \n",
    "from scipy import linalg\n",
    "import numpy as np \n",
    "import seaborn as sns #visual heat plots and clutering map\n",
    "import itertools\n",
    "from scipy import stats\n",
    "import operator\n",
    "import math\n",
    "import scipy\n",
    "import matplotlib.pyplot as plt\n",
    "from collections import defaultdict \n",
    "d = defaultdict(list)"
   ]
  },
  {
   "cell_type": "code",
   "execution_count": null,
   "id": "25a3ab72",
   "metadata": {},
   "outputs": [],
   "source": [
    "exp = input(\"Please copy and paste the file path for the experiment data up to and including 'Raw Data'. For example:\\n\\n ...\\OM_PLATFORM_E005\\RawData\")"
   ]
  },
  {
   "cell_type": "code",
   "execution_count": null,
   "id": "72279ee7",
   "metadata": {},
   "outputs": [],
   "source": [
    "rootdir = r\"\" + str(exp)\n",
    "print(rootdir)\n",
    "file_paths = []\n",
    "for subdir,dirs, files in os.walk(rootdir):\n",
    "    for file in files:\n",
    "        file_paths.append(os.path.join(subdir, file))\n",
    "\n",
    "print(\"These are all the file paths that match that experiment number:\\n\")\n",
    "file_paths"
   ]
  },
  {
   "cell_type": "code",
   "execution_count": null,
   "id": "af9a1d89",
   "metadata": {},
   "outputs": [],
   "source": [
    "#so that they can paste in specific type of file thingy\n",
    "obs_type = input(\"What type of observations are you looking for? Ex: 'Objects_Population - Nuclei NonBorder'. Copy the name of that file and paste it into the command prompt below\\n\")\n",
    "file_path_match = []\n",
    "for file_path in file_paths:\n",
    "    x = re.search(obs_type, file_path)\n",
    "    if x:\n",
    "        file_path_match.append(file_path)"
   ]
  },
  {
   "cell_type": "code",
   "execution_count": null,
   "id": "c4af43c9",
   "metadata": {},
   "outputs": [],
   "source": [
    "print(\"These are all the file paths that will lead you to \" + obs_type + \" in the experiment. There should be as many files as plates.\")\n",
    "file_path_match # file_path_match will be important variable rep the # of plates throughout this code"
   ]
  },
  {
   "cell_type": "code",
   "execution_count": null,
   "id": "c859b405",
   "metadata": {},
   "outputs": [],
   "source": [
    "# each raw data / plate will become an element in the main_df_list. main_df_list[0] is the df for plate 1 \n",
    "main_df_list = []\n",
    "for path in file_path_match:\n",
    "    main_df = pd.read_csv(path, delimiter = '\\t', header = 8, low_memory = False)\n",
    "    main_df = main_df.drop(['Concentration'], axis = 1) \n",
    "    main_df = main_df.dropna(axis =1, how = 'all')\n",
    "    main_df['location'] = (main_df['Row'].astype(str)+ ', ' + main_df['Column'].astype(str))\n",
    "    main_df['Compound_Usage'] = \"\"\n",
    "    main_df = main_df.dropna(axis = 0) #drop cell if NaN in obs\n",
    "    main_df = main_df[main_df.columns.drop(list(main_df.filter(regex='Bounding Box')))]\n",
    "    main_df_list.append(main_df)"
   ]
  },
  {
   "cell_type": "code",
   "execution_count": null,
   "id": "b0c48759",
   "metadata": {},
   "outputs": [],
   "source": [
    "# #main_df_lsit[i] corresponds to a plate\n",
    "main_col = [col for col in main_df_list[0].columns]\n",
    "for i in range(len(file_path_match)):\n",
    "    for name in main_col:\n",
    "        if name in main_col == \"Bounding Box\":\n",
    "            main_df_list.drop(\"Bounding Box\", axis = 1)         \n",
    "main_df_list[0]"
   ]
  },
  {
   "cell_type": "code",
   "execution_count": null,
   "id": "e5d0bda1",
   "metadata": {},
   "outputs": [],
   "source": [
    "info = input(\"Please copy and paste your experiment information file path up to and including INFO. For example:\\n\\n ...\\OM_PLATFORM_E005\\Info\")\n",
    "day = input(\"What day was your experiment imaged? Please enter same date as it exists on the information name\")\n",
    "rootdir = r\"\" + str(info)\n",
    "file_paths_layout = []\n",
    "for subdir,dirs, files in os.walk(rootdir):\n",
    "    for file in files:\n",
    "        file_paths_layout.append(os.path.join(subdir, file))\n",
    "file_paths_layout\n",
    "file_path_match_layout = []\n",
    "for file_path in file_paths_layout:\n",
    "    x = re.search(day, file_path)\n",
    "    if x and (file_path.endswith('xlsx')) and not (file_path.endswith('plan.xlsx')):\n",
    "        file_path_match_layout.append(file_path)\n",
    "print(\"Below you should see the file name/path associated with the Info for your experiment:\\n\")\n",
    "file_path_match_layout"
   ]
  },
  {
   "cell_type": "code",
   "execution_count": null,
   "id": "c69b1591",
   "metadata": {},
   "outputs": [],
   "source": [
    "# should only have 1 layout file\n",
    "for path in file_path_match_layout:\n",
    "    layout_df = pd.read_excel(path, sheet_name = 'Tabular')\n",
    "layout_df"
   ]
  },
  {
   "cell_type": "code",
   "execution_count": null,
   "id": "ddf46ee0",
   "metadata": {},
   "outputs": [],
   "source": [
    "# this could still use some work since diff cell types were introduced a few days before end\n",
    "# at the moment this will read from a self-made 'cell_line_layout' document in info\n",
    "cell_types = input(\"Do you have different cell types on your plate(s) that you would like to be shown in your clustermap?\\n\\nPress 1 for YES and 2 for NO\\n\")\n",
    "if cell_types == 1:\n",
    "    rootdir = r\"C:\\Users\\jrozenblit\\Box\\Programs\\NSP900 - Imaging\\900-Biology\\invitro\\experiments\\OM_PLATFORM_E\" + str(exp_numb)+\"\\Info\"\n",
    "    cell_line_layout = []\n",
    "    for subdir,dirs, files in os.walk(rootdir):\n",
    "        for file in files:\n",
    "            cell_line_layout.append(os.path.join(subdir, file))\n",
    "    cell_line_layout\n",
    "    plan = input(\"plan\\n\")\n",
    "    cell_line_layout_match = []\n",
    "    for file_path in cell_line_layout:\n",
    "        x = re.search(plan, file_path)\n",
    "        if x:\n",
    "            cell_line_layout_match.append(file_path)\n",
    "    cell_line_layout_match\n",
    "if cell_types != 1:\n",
    "    print(\"You have indicated that you would not like to have or do not have various cell types marked on your clustermap.\")"
   ]
  }
 ],
 "metadata": {
  "kernelspec": {
   "display_name": "Python 3 (ipykernel)",
   "language": "python",
   "name": "python3"
  },
  "language_info": {
   "codemirror_mode": {
    "name": "ipython",
    "version": 3
   },
   "file_extension": ".py",
   "mimetype": "text/x-python",
   "name": "python",
   "nbconvert_exporter": "python",
   "pygments_lexer": "ipython3",
   "version": "3.9.7"
  }
 },
 "nbformat": 4,
 "nbformat_minor": 5
}
